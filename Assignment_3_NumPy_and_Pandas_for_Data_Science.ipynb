{
  "nbformat": 4,
  "nbformat_minor": 0,
  "metadata": {
    "colab": {
      "provenance": [],
      "include_colab_link": true
    },
    "kernelspec": {
      "name": "python3",
      "display_name": "Python 3"
    },
    "language_info": {
      "name": "python"
    }
  },
  "cells": [
    {
      "cell_type": "markdown",
      "metadata": {
        "id": "view-in-github",
        "colab_type": "text"
      },
      "source": [
        "<a href=\"https://colab.research.google.com/github/diptokundu/Skill_morph_HW/blob/main/Assignment_3_NumPy_and_Pandas_for_Data_Science.ipynb\" target=\"_parent\"><img src=\"https://colab.research.google.com/assets/colab-badge.svg\" alt=\"Open In Colab\"/></a>"
      ]
    },
    {
      "cell_type": "code",
      "execution_count": null,
      "metadata": {
        "id": "VRE1K5KXdhYS"
      },
      "outputs": [],
      "source": [
        "\"\"\"\n",
        "Student Performance Dataset Analysis\n",
        "Dataset Information\n",
        "Student Performance Dataset (StudentsPerformance.csv)\n",
        "\n",
        "1000 students with academic performance data\n",
        "8 columns: gender, race/ethnicity, parental level of education, lunch, test preparation course, math score, reading score, writing score\n",
        "Score Range: 0-100 for each subject\n",
        "Demographics: Male/Female, 5 ethnic groups, 6 education levels, standard/free lunch, test prep completed/none\n",
        "\"\"\""
      ]
    },
    {
      "cell_type": "code",
      "source": [
        "#Task 1.1: Data Loading and Exploration\n",
        "import numpy as np\n",
        "import pandas as pd\n",
        "\n",
        "# Load the dataset\n",
        "df = pd.read_csv('StudentsPerformance.csv')\n",
        "\n",
        "# Your tasks:\n",
        "# 1. Display first 10 rows\n",
        "# 2. Show dataset shape and info()\n",
        "# 3. Display unique values in each categorical column\n",
        "# 4. Show basic statistics for all score columns\n",
        "\n",
        "# Your code here:"
      ],
      "metadata": {
        "id": "Agxhn5_4eTuI"
      },
      "execution_count": null,
      "outputs": []
    },
    {
      "cell_type": "code",
      "source": [
        "# 1. Display first 10 rows\n",
        "print(\"First 10 rows:\")\n",
        "display(df.head(10))"
      ],
      "metadata": {
        "colab": {
          "base_uri": "https://localhost:8080/",
          "height": 397
        },
        "id": "DYghkpWMOtK2",
        "outputId": "58d2852d-f78a-49cd-f4a8-fc38836ef162"
      },
      "execution_count": null,
      "outputs": [
        {
          "output_type": "stream",
          "name": "stdout",
          "text": [
            "First 10 rows:\n"
          ]
        },
        {
          "output_type": "display_data",
          "data": {
            "text/plain": [
              "   gender race/ethnicity parental level of education         lunch  \\\n",
              "0  female        group B           bachelor's degree      standard   \n",
              "1  female        group C                some college      standard   \n",
              "2  female        group B             master's degree      standard   \n",
              "3    male        group A          associate's degree  free/reduced   \n",
              "4    male        group C                some college      standard   \n",
              "5  female        group B          associate's degree      standard   \n",
              "6  female        group B                some college      standard   \n",
              "7    male        group B                some college  free/reduced   \n",
              "8    male        group D                 high school  free/reduced   \n",
              "9  female        group B                 high school  free/reduced   \n",
              "\n",
              "  test preparation course  math score  reading score  writing score  \n",
              "0                    none          72             72             74  \n",
              "1               completed          69             90             88  \n",
              "2                    none          90             95             93  \n",
              "3                    none          47             57             44  \n",
              "4                    none          76             78             75  \n",
              "5                    none          71             83             78  \n",
              "6               completed          88             95             92  \n",
              "7                    none          40             43             39  \n",
              "8               completed          64             64             67  \n",
              "9                    none          38             60             50  "
            ],
            "text/html": [
              "\n",
              "  <div id=\"df-87590d3e-8d38-4c78-96be-2fe075fdc7d7\" class=\"colab-df-container\">\n",
              "    <div>\n",
              "<style scoped>\n",
              "    .dataframe tbody tr th:only-of-type {\n",
              "        vertical-align: middle;\n",
              "    }\n",
              "\n",
              "    .dataframe tbody tr th {\n",
              "        vertical-align: top;\n",
              "    }\n",
              "\n",
              "    .dataframe thead th {\n",
              "        text-align: right;\n",
              "    }\n",
              "</style>\n",
              "<table border=\"1\" class=\"dataframe\">\n",
              "  <thead>\n",
              "    <tr style=\"text-align: right;\">\n",
              "      <th></th>\n",
              "      <th>gender</th>\n",
              "      <th>race/ethnicity</th>\n",
              "      <th>parental level of education</th>\n",
              "      <th>lunch</th>\n",
              "      <th>test preparation course</th>\n",
              "      <th>math score</th>\n",
              "      <th>reading score</th>\n",
              "      <th>writing score</th>\n",
              "    </tr>\n",
              "  </thead>\n",
              "  <tbody>\n",
              "    <tr>\n",
              "      <th>0</th>\n",
              "      <td>female</td>\n",
              "      <td>group B</td>\n",
              "      <td>bachelor's degree</td>\n",
              "      <td>standard</td>\n",
              "      <td>none</td>\n",
              "      <td>72</td>\n",
              "      <td>72</td>\n",
              "      <td>74</td>\n",
              "    </tr>\n",
              "    <tr>\n",
              "      <th>1</th>\n",
              "      <td>female</td>\n",
              "      <td>group C</td>\n",
              "      <td>some college</td>\n",
              "      <td>standard</td>\n",
              "      <td>completed</td>\n",
              "      <td>69</td>\n",
              "      <td>90</td>\n",
              "      <td>88</td>\n",
              "    </tr>\n",
              "    <tr>\n",
              "      <th>2</th>\n",
              "      <td>female</td>\n",
              "      <td>group B</td>\n",
              "      <td>master's degree</td>\n",
              "      <td>standard</td>\n",
              "      <td>none</td>\n",
              "      <td>90</td>\n",
              "      <td>95</td>\n",
              "      <td>93</td>\n",
              "    </tr>\n",
              "    <tr>\n",
              "      <th>3</th>\n",
              "      <td>male</td>\n",
              "      <td>group A</td>\n",
              "      <td>associate's degree</td>\n",
              "      <td>free/reduced</td>\n",
              "      <td>none</td>\n",
              "      <td>47</td>\n",
              "      <td>57</td>\n",
              "      <td>44</td>\n",
              "    </tr>\n",
              "    <tr>\n",
              "      <th>4</th>\n",
              "      <td>male</td>\n",
              "      <td>group C</td>\n",
              "      <td>some college</td>\n",
              "      <td>standard</td>\n",
              "      <td>none</td>\n",
              "      <td>76</td>\n",
              "      <td>78</td>\n",
              "      <td>75</td>\n",
              "    </tr>\n",
              "    <tr>\n",
              "      <th>5</th>\n",
              "      <td>female</td>\n",
              "      <td>group B</td>\n",
              "      <td>associate's degree</td>\n",
              "      <td>standard</td>\n",
              "      <td>none</td>\n",
              "      <td>71</td>\n",
              "      <td>83</td>\n",
              "      <td>78</td>\n",
              "    </tr>\n",
              "    <tr>\n",
              "      <th>6</th>\n",
              "      <td>female</td>\n",
              "      <td>group B</td>\n",
              "      <td>some college</td>\n",
              "      <td>standard</td>\n",
              "      <td>completed</td>\n",
              "      <td>88</td>\n",
              "      <td>95</td>\n",
              "      <td>92</td>\n",
              "    </tr>\n",
              "    <tr>\n",
              "      <th>7</th>\n",
              "      <td>male</td>\n",
              "      <td>group B</td>\n",
              "      <td>some college</td>\n",
              "      <td>free/reduced</td>\n",
              "      <td>none</td>\n",
              "      <td>40</td>\n",
              "      <td>43</td>\n",
              "      <td>39</td>\n",
              "    </tr>\n",
              "    <tr>\n",
              "      <th>8</th>\n",
              "      <td>male</td>\n",
              "      <td>group D</td>\n",
              "      <td>high school</td>\n",
              "      <td>free/reduced</td>\n",
              "      <td>completed</td>\n",
              "      <td>64</td>\n",
              "      <td>64</td>\n",
              "      <td>67</td>\n",
              "    </tr>\n",
              "    <tr>\n",
              "      <th>9</th>\n",
              "      <td>female</td>\n",
              "      <td>group B</td>\n",
              "      <td>high school</td>\n",
              "      <td>free/reduced</td>\n",
              "      <td>none</td>\n",
              "      <td>38</td>\n",
              "      <td>60</td>\n",
              "      <td>50</td>\n",
              "    </tr>\n",
              "  </tbody>\n",
              "</table>\n",
              "</div>\n",
              "    <div class=\"colab-df-buttons\">\n",
              "\n",
              "  <div class=\"colab-df-container\">\n",
              "    <button class=\"colab-df-convert\" onclick=\"convertToInteractive('df-87590d3e-8d38-4c78-96be-2fe075fdc7d7')\"\n",
              "            title=\"Convert this dataframe to an interactive table.\"\n",
              "            style=\"display:none;\">\n",
              "\n",
              "  <svg xmlns=\"http://www.w3.org/2000/svg\" height=\"24px\" viewBox=\"0 -960 960 960\">\n",
              "    <path d=\"M120-120v-720h720v720H120Zm60-500h600v-160H180v160Zm220 220h160v-160H400v160Zm0 220h160v-160H400v160ZM180-400h160v-160H180v160Zm440 0h160v-160H620v160ZM180-180h160v-160H180v160Zm440 0h160v-160H620v160Z\"/>\n",
              "  </svg>\n",
              "    </button>\n",
              "\n",
              "  <style>\n",
              "    .colab-df-container {\n",
              "      display:flex;\n",
              "      gap: 12px;\n",
              "    }\n",
              "\n",
              "    .colab-df-convert {\n",
              "      background-color: #E8F0FE;\n",
              "      border: none;\n",
              "      border-radius: 50%;\n",
              "      cursor: pointer;\n",
              "      display: none;\n",
              "      fill: #1967D2;\n",
              "      height: 32px;\n",
              "      padding: 0 0 0 0;\n",
              "      width: 32px;\n",
              "    }\n",
              "\n",
              "    .colab-df-convert:hover {\n",
              "      background-color: #E2EBFA;\n",
              "      box-shadow: 0px 1px 2px rgba(60, 64, 67, 0.3), 0px 1px 3px 1px rgba(60, 64, 67, 0.15);\n",
              "      fill: #174EA6;\n",
              "    }\n",
              "\n",
              "    .colab-df-buttons div {\n",
              "      margin-bottom: 4px;\n",
              "    }\n",
              "\n",
              "    [theme=dark] .colab-df-convert {\n",
              "      background-color: #3B4455;\n",
              "      fill: #D2E3FC;\n",
              "    }\n",
              "\n",
              "    [theme=dark] .colab-df-convert:hover {\n",
              "      background-color: #434B5C;\n",
              "      box-shadow: 0px 1px 3px 1px rgba(0, 0, 0, 0.15);\n",
              "      filter: drop-shadow(0px 1px 2px rgba(0, 0, 0, 0.3));\n",
              "      fill: #FFFFFF;\n",
              "    }\n",
              "  </style>\n",
              "\n",
              "    <script>\n",
              "      const buttonEl =\n",
              "        document.querySelector('#df-87590d3e-8d38-4c78-96be-2fe075fdc7d7 button.colab-df-convert');\n",
              "      buttonEl.style.display =\n",
              "        google.colab.kernel.accessAllowed ? 'block' : 'none';\n",
              "\n",
              "      async function convertToInteractive(key) {\n",
              "        const element = document.querySelector('#df-87590d3e-8d38-4c78-96be-2fe075fdc7d7');\n",
              "        const dataTable =\n",
              "          await google.colab.kernel.invokeFunction('convertToInteractive',\n",
              "                                                    [key], {});\n",
              "        if (!dataTable) return;\n",
              "\n",
              "        const docLinkHtml = 'Like what you see? Visit the ' +\n",
              "          '<a target=\"_blank\" href=https://colab.research.google.com/notebooks/data_table.ipynb>data table notebook</a>'\n",
              "          + ' to learn more about interactive tables.';\n",
              "        element.innerHTML = '';\n",
              "        dataTable['output_type'] = 'display_data';\n",
              "        await google.colab.output.renderOutput(dataTable, element);\n",
              "        const docLink = document.createElement('div');\n",
              "        docLink.innerHTML = docLinkHtml;\n",
              "        element.appendChild(docLink);\n",
              "      }\n",
              "    </script>\n",
              "  </div>\n",
              "\n",
              "\n",
              "    <div id=\"df-8d0c565d-de9a-4cf2-8e9a-e7da0e403a0c\">\n",
              "      <button class=\"colab-df-quickchart\" onclick=\"quickchart('df-8d0c565d-de9a-4cf2-8e9a-e7da0e403a0c')\"\n",
              "                title=\"Suggest charts\"\n",
              "                style=\"display:none;\">\n",
              "\n",
              "<svg xmlns=\"http://www.w3.org/2000/svg\" height=\"24px\"viewBox=\"0 0 24 24\"\n",
              "     width=\"24px\">\n",
              "    <g>\n",
              "        <path d=\"M19 3H5c-1.1 0-2 .9-2 2v14c0 1.1.9 2 2 2h14c1.1 0 2-.9 2-2V5c0-1.1-.9-2-2-2zM9 17H7v-7h2v7zm4 0h-2V7h2v10zm4 0h-2v-4h2v4z\"/>\n",
              "    </g>\n",
              "</svg>\n",
              "      </button>\n",
              "\n",
              "<style>\n",
              "  .colab-df-quickchart {\n",
              "      --bg-color: #E8F0FE;\n",
              "      --fill-color: #1967D2;\n",
              "      --hover-bg-color: #E2EBFA;\n",
              "      --hover-fill-color: #174EA6;\n",
              "      --disabled-fill-color: #AAA;\n",
              "      --disabled-bg-color: #DDD;\n",
              "  }\n",
              "\n",
              "  [theme=dark] .colab-df-quickchart {\n",
              "      --bg-color: #3B4455;\n",
              "      --fill-color: #D2E3FC;\n",
              "      --hover-bg-color: #434B5C;\n",
              "      --hover-fill-color: #FFFFFF;\n",
              "      --disabled-bg-color: #3B4455;\n",
              "      --disabled-fill-color: #666;\n",
              "  }\n",
              "\n",
              "  .colab-df-quickchart {\n",
              "    background-color: var(--bg-color);\n",
              "    border: none;\n",
              "    border-radius: 50%;\n",
              "    cursor: pointer;\n",
              "    display: none;\n",
              "    fill: var(--fill-color);\n",
              "    height: 32px;\n",
              "    padding: 0;\n",
              "    width: 32px;\n",
              "  }\n",
              "\n",
              "  .colab-df-quickchart:hover {\n",
              "    background-color: var(--hover-bg-color);\n",
              "    box-shadow: 0 1px 2px rgba(60, 64, 67, 0.3), 0 1px 3px 1px rgba(60, 64, 67, 0.15);\n",
              "    fill: var(--button-hover-fill-color);\n",
              "  }\n",
              "\n",
              "  .colab-df-quickchart-complete:disabled,\n",
              "  .colab-df-quickchart-complete:disabled:hover {\n",
              "    background-color: var(--disabled-bg-color);\n",
              "    fill: var(--disabled-fill-color);\n",
              "    box-shadow: none;\n",
              "  }\n",
              "\n",
              "  .colab-df-spinner {\n",
              "    border: 2px solid var(--fill-color);\n",
              "    border-color: transparent;\n",
              "    border-bottom-color: var(--fill-color);\n",
              "    animation:\n",
              "      spin 1s steps(1) infinite;\n",
              "  }\n",
              "\n",
              "  @keyframes spin {\n",
              "    0% {\n",
              "      border-color: transparent;\n",
              "      border-bottom-color: var(--fill-color);\n",
              "      border-left-color: var(--fill-color);\n",
              "    }\n",
              "    20% {\n",
              "      border-color: transparent;\n",
              "      border-left-color: var(--fill-color);\n",
              "      border-top-color: var(--fill-color);\n",
              "    }\n",
              "    30% {\n",
              "      border-color: transparent;\n",
              "      border-left-color: var(--fill-color);\n",
              "      border-top-color: var(--fill-color);\n",
              "      border-right-color: var(--fill-color);\n",
              "    }\n",
              "    40% {\n",
              "      border-color: transparent;\n",
              "      border-right-color: var(--fill-color);\n",
              "      border-top-color: var(--fill-color);\n",
              "    }\n",
              "    60% {\n",
              "      border-color: transparent;\n",
              "      border-right-color: var(--fill-color);\n",
              "    }\n",
              "    80% {\n",
              "      border-color: transparent;\n",
              "      border-right-color: var(--fill-color);\n",
              "      border-bottom-color: var(--fill-color);\n",
              "    }\n",
              "    90% {\n",
              "      border-color: transparent;\n",
              "      border-bottom-color: var(--fill-color);\n",
              "    }\n",
              "  }\n",
              "</style>\n",
              "\n",
              "      <script>\n",
              "        async function quickchart(key) {\n",
              "          const quickchartButtonEl =\n",
              "            document.querySelector('#' + key + ' button');\n",
              "          quickchartButtonEl.disabled = true;  // To prevent multiple clicks.\n",
              "          quickchartButtonEl.classList.add('colab-df-spinner');\n",
              "          try {\n",
              "            const charts = await google.colab.kernel.invokeFunction(\n",
              "                'suggestCharts', [key], {});\n",
              "          } catch (error) {\n",
              "            console.error('Error during call to suggestCharts:', error);\n",
              "          }\n",
              "          quickchartButtonEl.classList.remove('colab-df-spinner');\n",
              "          quickchartButtonEl.classList.add('colab-df-quickchart-complete');\n",
              "        }\n",
              "        (() => {\n",
              "          let quickchartButtonEl =\n",
              "            document.querySelector('#df-8d0c565d-de9a-4cf2-8e9a-e7da0e403a0c button');\n",
              "          quickchartButtonEl.style.display =\n",
              "            google.colab.kernel.accessAllowed ? 'block' : 'none';\n",
              "        })();\n",
              "      </script>\n",
              "    </div>\n",
              "\n",
              "    </div>\n",
              "  </div>\n"
            ],
            "application/vnd.google.colaboratory.intrinsic+json": {
              "type": "dataframe",
              "summary": "{\n  \"name\": \"display(df\",\n  \"rows\": 10,\n  \"fields\": [\n    {\n      \"column\": \"gender\",\n      \"properties\": {\n        \"dtype\": \"category\",\n        \"num_unique_values\": 2,\n        \"samples\": [\n          \"male\",\n          \"female\"\n        ],\n        \"semantic_type\": \"\",\n        \"description\": \"\"\n      }\n    },\n    {\n      \"column\": \"race/ethnicity\",\n      \"properties\": {\n        \"dtype\": \"category\",\n        \"num_unique_values\": 4,\n        \"samples\": [\n          \"group C\",\n          \"group D\"\n        ],\n        \"semantic_type\": \"\",\n        \"description\": \"\"\n      }\n    },\n    {\n      \"column\": \"parental level of education\",\n      \"properties\": {\n        \"dtype\": \"string\",\n        \"num_unique_values\": 5,\n        \"samples\": [\n          \"some college\",\n          \"high school\"\n        ],\n        \"semantic_type\": \"\",\n        \"description\": \"\"\n      }\n    },\n    {\n      \"column\": \"lunch\",\n      \"properties\": {\n        \"dtype\": \"category\",\n        \"num_unique_values\": 2,\n        \"samples\": [\n          \"free/reduced\",\n          \"standard\"\n        ],\n        \"semantic_type\": \"\",\n        \"description\": \"\"\n      }\n    },\n    {\n      \"column\": \"test preparation course\",\n      \"properties\": {\n        \"dtype\": \"category\",\n        \"num_unique_values\": 2,\n        \"samples\": [\n          \"completed\",\n          \"none\"\n        ],\n        \"semantic_type\": \"\",\n        \"description\": \"\"\n      }\n    },\n    {\n      \"column\": \"math score\",\n      \"properties\": {\n        \"dtype\": \"number\",\n        \"std\": 18,\n        \"min\": 38,\n        \"max\": 90,\n        \"num_unique_values\": 10,\n        \"samples\": [\n          64,\n          69\n        ],\n        \"semantic_type\": \"\",\n        \"description\": \"\"\n      }\n    },\n    {\n      \"column\": \"reading score\",\n      \"properties\": {\n        \"dtype\": \"number\",\n        \"std\": 17,\n        \"min\": 43,\n        \"max\": 95,\n        \"num_unique_values\": 9,\n        \"samples\": [\n          64,\n          90\n        ],\n        \"semantic_type\": \"\",\n        \"description\": \"\"\n      }\n    },\n    {\n      \"column\": \"writing score\",\n      \"properties\": {\n        \"dtype\": \"number\",\n        \"std\": 19,\n        \"min\": 39,\n        \"max\": 93,\n        \"num_unique_values\": 10,\n        \"samples\": [\n          67,\n          88\n        ],\n        \"semantic_type\": \"\",\n        \"description\": \"\"\n      }\n    }\n  ]\n}"
            }
          },
          "metadata": {}
        }
      ]
    },
    {
      "cell_type": "code",
      "source": [
        "# 2. Show dataset shape and info()\n",
        "print(\"\\nDataset Shape (rows, columns):\", df.shape)\n",
        "print(\"\\nDataset Info:\")\n",
        "df.info()"
      ],
      "metadata": {
        "colab": {
          "base_uri": "https://localhost:8080/"
        },
        "id": "46F2XhkAyFgP",
        "outputId": "17d955bd-d39a-4722-e884-65cc360c3251"
      },
      "execution_count": null,
      "outputs": [
        {
          "output_type": "stream",
          "name": "stdout",
          "text": [
            "\n",
            "Dataset Shape (rows, columns): (1000, 8)\n",
            "\n",
            "Dataset Info:\n",
            "<class 'pandas.core.frame.DataFrame'>\n",
            "RangeIndex: 1000 entries, 0 to 999\n",
            "Data columns (total 8 columns):\n",
            " #   Column                       Non-Null Count  Dtype \n",
            "---  ------                       --------------  ----- \n",
            " 0   gender                       1000 non-null   object\n",
            " 1   race/ethnicity               1000 non-null   object\n",
            " 2   parental level of education  1000 non-null   object\n",
            " 3   lunch                        1000 non-null   object\n",
            " 4   test preparation course      1000 non-null   object\n",
            " 5   math score                   1000 non-null   int64 \n",
            " 6   reading score                1000 non-null   int64 \n",
            " 7   writing score                1000 non-null   int64 \n",
            "dtypes: int64(3), object(5)\n",
            "memory usage: 62.6+ KB\n"
          ]
        }
      ]
    },
    {
      "cell_type": "code",
      "source": [
        "# 3. Display unique values in each categorical column\n",
        "print(\"\\nUnique values in gender columns:\",df['gender'].unique())\n",
        "print(\"\\nUnique values in race/ethnicity columns:\",df['race/ethnicity'].unique())\n",
        "print(\"\\nUnique values in parental level of education columns:\",df['parental level of education'].unique())\n",
        "print(\"\\nUnique values in lunch columns:\",df['lunch'].unique())\n",
        "print(\"\\nUnique values in test preparation course columns:\",df['test preparation course'].unique())\n",
        "print(\"\\nUnique values in math score columns:\",df['math score'].unique())\n",
        "print(\"\\nUnique values in reading score columns:\",df['reading score'].unique())\n",
        "print(\"\\nUnique values in writing score columns:\",df['writing score'].unique())"
      ],
      "metadata": {
        "colab": {
          "base_uri": "https://localhost:8080/"
        },
        "id": "72GnTC3Ex-hG",
        "outputId": "4d07d35d-3d78-4604-d398-9327c66b6389"
      },
      "execution_count": null,
      "outputs": [
        {
          "output_type": "stream",
          "name": "stdout",
          "text": [
            "\n",
            "Unique values in gender columns: ['female' 'male']\n",
            "\n",
            "Unique values in race/ethnicity columns: ['group B' 'group C' 'group A' 'group D' 'group E']\n",
            "\n",
            "Unique values in parental level of education columns: [\"bachelor's degree\" 'some college' \"master's degree\" \"associate's degree\"\n",
            " 'high school' 'some high school']\n",
            "\n",
            "Unique values in lunch columns: ['standard' 'free/reduced']\n",
            "\n",
            "Unique values in test preparation course columns: ['none' 'completed']\n",
            "\n",
            "Unique values in math score columns: [ 72  69  90  47  76  71  88  40  64  38  58  65  78  50  18  46  54  66\n",
            "  44  74  73  67  70  62  63  56  97  81  75  57  55  53  59  82  77  33\n",
            "  52   0  79  39  45  60  61  41  49  30  80  42  27  43  68  85  98  87\n",
            "  51  99  84  91  83  89  22 100  96  94  48  35  34  86  92  37  28  24\n",
            "  26  95  36  29  32  93  19  23   8]\n",
            "\n",
            "Unique values in reading score columns: [ 72  90  95  57  78  83  43  64  60  54  52  81  53  75  89  32  42  58\n",
            "  69  73  71  74  70  65  87  56  61  84  55  44  41  85  59  17  39  80\n",
            "  37  63  51  49  26  68  45  47  86  34  79  66  67  91 100  76  77  82\n",
            "  92  93  62  88  50  28  48  46  23  38  94  97  99  31  96  24  29  40]\n",
            "\n",
            "Unique values in writing score columns: [ 74  88  93  44  75  78  92  39  67  50  52  43  73  70  58  86  28  46\n",
            "  61  63  53  80  72  55  65  38  82  79  83  59  57  54  68  66  62  76\n",
            "  48  42  87  49  10  34  71  37  56  41  22  81  45  36  89  47  90 100\n",
            "  64  98  51  40  84  69  33  60  85  91  77  27  94  95  19  35  32  96\n",
            "  97  99  15  30  23]\n"
          ]
        }
      ]
    },
    {
      "cell_type": "code",
      "source": [
        "# 4. Show basic statistics for all score columns\n",
        "print(\"Basic statistics for score columns:\")\n",
        "df.describe()"
      ],
      "metadata": {
        "colab": {
          "base_uri": "https://localhost:8080/",
          "height": 317
        },
        "id": "WUfnQ3G7zDPe",
        "outputId": "d8ab384c-6be8-4eaa-b6a8-92e331400d99"
      },
      "execution_count": null,
      "outputs": [
        {
          "output_type": "stream",
          "name": "stdout",
          "text": [
            "Basic statistics for score columns:\n"
          ]
        },
        {
          "output_type": "execute_result",
          "data": {
            "text/plain": [
              "       math score  reading score  writing score\n",
              "count  1000.00000    1000.000000    1000.000000\n",
              "mean     66.08900      69.169000      68.054000\n",
              "std      15.16308      14.600192      15.195657\n",
              "min       0.00000      17.000000      10.000000\n",
              "25%      57.00000      59.000000      57.750000\n",
              "50%      66.00000      70.000000      69.000000\n",
              "75%      77.00000      79.000000      79.000000\n",
              "max     100.00000     100.000000     100.000000"
            ],
            "text/html": [
              "\n",
              "  <div id=\"df-b38a82af-6e34-447a-8bb4-fd2ce22b72eb\" class=\"colab-df-container\">\n",
              "    <div>\n",
              "<style scoped>\n",
              "    .dataframe tbody tr th:only-of-type {\n",
              "        vertical-align: middle;\n",
              "    }\n",
              "\n",
              "    .dataframe tbody tr th {\n",
              "        vertical-align: top;\n",
              "    }\n",
              "\n",
              "    .dataframe thead th {\n",
              "        text-align: right;\n",
              "    }\n",
              "</style>\n",
              "<table border=\"1\" class=\"dataframe\">\n",
              "  <thead>\n",
              "    <tr style=\"text-align: right;\">\n",
              "      <th></th>\n",
              "      <th>math score</th>\n",
              "      <th>reading score</th>\n",
              "      <th>writing score</th>\n",
              "    </tr>\n",
              "  </thead>\n",
              "  <tbody>\n",
              "    <tr>\n",
              "      <th>count</th>\n",
              "      <td>1000.00000</td>\n",
              "      <td>1000.000000</td>\n",
              "      <td>1000.000000</td>\n",
              "    </tr>\n",
              "    <tr>\n",
              "      <th>mean</th>\n",
              "      <td>66.08900</td>\n",
              "      <td>69.169000</td>\n",
              "      <td>68.054000</td>\n",
              "    </tr>\n",
              "    <tr>\n",
              "      <th>std</th>\n",
              "      <td>15.16308</td>\n",
              "      <td>14.600192</td>\n",
              "      <td>15.195657</td>\n",
              "    </tr>\n",
              "    <tr>\n",
              "      <th>min</th>\n",
              "      <td>0.00000</td>\n",
              "      <td>17.000000</td>\n",
              "      <td>10.000000</td>\n",
              "    </tr>\n",
              "    <tr>\n",
              "      <th>25%</th>\n",
              "      <td>57.00000</td>\n",
              "      <td>59.000000</td>\n",
              "      <td>57.750000</td>\n",
              "    </tr>\n",
              "    <tr>\n",
              "      <th>50%</th>\n",
              "      <td>66.00000</td>\n",
              "      <td>70.000000</td>\n",
              "      <td>69.000000</td>\n",
              "    </tr>\n",
              "    <tr>\n",
              "      <th>75%</th>\n",
              "      <td>77.00000</td>\n",
              "      <td>79.000000</td>\n",
              "      <td>79.000000</td>\n",
              "    </tr>\n",
              "    <tr>\n",
              "      <th>max</th>\n",
              "      <td>100.00000</td>\n",
              "      <td>100.000000</td>\n",
              "      <td>100.000000</td>\n",
              "    </tr>\n",
              "  </tbody>\n",
              "</table>\n",
              "</div>\n",
              "    <div class=\"colab-df-buttons\">\n",
              "\n",
              "  <div class=\"colab-df-container\">\n",
              "    <button class=\"colab-df-convert\" onclick=\"convertToInteractive('df-b38a82af-6e34-447a-8bb4-fd2ce22b72eb')\"\n",
              "            title=\"Convert this dataframe to an interactive table.\"\n",
              "            style=\"display:none;\">\n",
              "\n",
              "  <svg xmlns=\"http://www.w3.org/2000/svg\" height=\"24px\" viewBox=\"0 -960 960 960\">\n",
              "    <path d=\"M120-120v-720h720v720H120Zm60-500h600v-160H180v160Zm220 220h160v-160H400v160Zm0 220h160v-160H400v160ZM180-400h160v-160H180v160Zm440 0h160v-160H620v160ZM180-180h160v-160H180v160Zm440 0h160v-160H620v160Z\"/>\n",
              "  </svg>\n",
              "    </button>\n",
              "\n",
              "  <style>\n",
              "    .colab-df-container {\n",
              "      display:flex;\n",
              "      gap: 12px;\n",
              "    }\n",
              "\n",
              "    .colab-df-convert {\n",
              "      background-color: #E8F0FE;\n",
              "      border: none;\n",
              "      border-radius: 50%;\n",
              "      cursor: pointer;\n",
              "      display: none;\n",
              "      fill: #1967D2;\n",
              "      height: 32px;\n",
              "      padding: 0 0 0 0;\n",
              "      width: 32px;\n",
              "    }\n",
              "\n",
              "    .colab-df-convert:hover {\n",
              "      background-color: #E2EBFA;\n",
              "      box-shadow: 0px 1px 2px rgba(60, 64, 67, 0.3), 0px 1px 3px 1px rgba(60, 64, 67, 0.15);\n",
              "      fill: #174EA6;\n",
              "    }\n",
              "\n",
              "    .colab-df-buttons div {\n",
              "      margin-bottom: 4px;\n",
              "    }\n",
              "\n",
              "    [theme=dark] .colab-df-convert {\n",
              "      background-color: #3B4455;\n",
              "      fill: #D2E3FC;\n",
              "    }\n",
              "\n",
              "    [theme=dark] .colab-df-convert:hover {\n",
              "      background-color: #434B5C;\n",
              "      box-shadow: 0px 1px 3px 1px rgba(0, 0, 0, 0.15);\n",
              "      filter: drop-shadow(0px 1px 2px rgba(0, 0, 0, 0.3));\n",
              "      fill: #FFFFFF;\n",
              "    }\n",
              "  </style>\n",
              "\n",
              "    <script>\n",
              "      const buttonEl =\n",
              "        document.querySelector('#df-b38a82af-6e34-447a-8bb4-fd2ce22b72eb button.colab-df-convert');\n",
              "      buttonEl.style.display =\n",
              "        google.colab.kernel.accessAllowed ? 'block' : 'none';\n",
              "\n",
              "      async function convertToInteractive(key) {\n",
              "        const element = document.querySelector('#df-b38a82af-6e34-447a-8bb4-fd2ce22b72eb');\n",
              "        const dataTable =\n",
              "          await google.colab.kernel.invokeFunction('convertToInteractive',\n",
              "                                                    [key], {});\n",
              "        if (!dataTable) return;\n",
              "\n",
              "        const docLinkHtml = 'Like what you see? Visit the ' +\n",
              "          '<a target=\"_blank\" href=https://colab.research.google.com/notebooks/data_table.ipynb>data table notebook</a>'\n",
              "          + ' to learn more about interactive tables.';\n",
              "        element.innerHTML = '';\n",
              "        dataTable['output_type'] = 'display_data';\n",
              "        await google.colab.output.renderOutput(dataTable, element);\n",
              "        const docLink = document.createElement('div');\n",
              "        docLink.innerHTML = docLinkHtml;\n",
              "        element.appendChild(docLink);\n",
              "      }\n",
              "    </script>\n",
              "  </div>\n",
              "\n",
              "\n",
              "    <div id=\"df-8958ffcc-cd99-48a3-8685-02790cfee975\">\n",
              "      <button class=\"colab-df-quickchart\" onclick=\"quickchart('df-8958ffcc-cd99-48a3-8685-02790cfee975')\"\n",
              "                title=\"Suggest charts\"\n",
              "                style=\"display:none;\">\n",
              "\n",
              "<svg xmlns=\"http://www.w3.org/2000/svg\" height=\"24px\"viewBox=\"0 0 24 24\"\n",
              "     width=\"24px\">\n",
              "    <g>\n",
              "        <path d=\"M19 3H5c-1.1 0-2 .9-2 2v14c0 1.1.9 2 2 2h14c1.1 0 2-.9 2-2V5c0-1.1-.9-2-2-2zM9 17H7v-7h2v7zm4 0h-2V7h2v10zm4 0h-2v-4h2v4z\"/>\n",
              "    </g>\n",
              "</svg>\n",
              "      </button>\n",
              "\n",
              "<style>\n",
              "  .colab-df-quickchart {\n",
              "      --bg-color: #E8F0FE;\n",
              "      --fill-color: #1967D2;\n",
              "      --hover-bg-color: #E2EBFA;\n",
              "      --hover-fill-color: #174EA6;\n",
              "      --disabled-fill-color: #AAA;\n",
              "      --disabled-bg-color: #DDD;\n",
              "  }\n",
              "\n",
              "  [theme=dark] .colab-df-quickchart {\n",
              "      --bg-color: #3B4455;\n",
              "      --fill-color: #D2E3FC;\n",
              "      --hover-bg-color: #434B5C;\n",
              "      --hover-fill-color: #FFFFFF;\n",
              "      --disabled-bg-color: #3B4455;\n",
              "      --disabled-fill-color: #666;\n",
              "  }\n",
              "\n",
              "  .colab-df-quickchart {\n",
              "    background-color: var(--bg-color);\n",
              "    border: none;\n",
              "    border-radius: 50%;\n",
              "    cursor: pointer;\n",
              "    display: none;\n",
              "    fill: var(--fill-color);\n",
              "    height: 32px;\n",
              "    padding: 0;\n",
              "    width: 32px;\n",
              "  }\n",
              "\n",
              "  .colab-df-quickchart:hover {\n",
              "    background-color: var(--hover-bg-color);\n",
              "    box-shadow: 0 1px 2px rgba(60, 64, 67, 0.3), 0 1px 3px 1px rgba(60, 64, 67, 0.15);\n",
              "    fill: var(--button-hover-fill-color);\n",
              "  }\n",
              "\n",
              "  .colab-df-quickchart-complete:disabled,\n",
              "  .colab-df-quickchart-complete:disabled:hover {\n",
              "    background-color: var(--disabled-bg-color);\n",
              "    fill: var(--disabled-fill-color);\n",
              "    box-shadow: none;\n",
              "  }\n",
              "\n",
              "  .colab-df-spinner {\n",
              "    border: 2px solid var(--fill-color);\n",
              "    border-color: transparent;\n",
              "    border-bottom-color: var(--fill-color);\n",
              "    animation:\n",
              "      spin 1s steps(1) infinite;\n",
              "  }\n",
              "\n",
              "  @keyframes spin {\n",
              "    0% {\n",
              "      border-color: transparent;\n",
              "      border-bottom-color: var(--fill-color);\n",
              "      border-left-color: var(--fill-color);\n",
              "    }\n",
              "    20% {\n",
              "      border-color: transparent;\n",
              "      border-left-color: var(--fill-color);\n",
              "      border-top-color: var(--fill-color);\n",
              "    }\n",
              "    30% {\n",
              "      border-color: transparent;\n",
              "      border-left-color: var(--fill-color);\n",
              "      border-top-color: var(--fill-color);\n",
              "      border-right-color: var(--fill-color);\n",
              "    }\n",
              "    40% {\n",
              "      border-color: transparent;\n",
              "      border-right-color: var(--fill-color);\n",
              "      border-top-color: var(--fill-color);\n",
              "    }\n",
              "    60% {\n",
              "      border-color: transparent;\n",
              "      border-right-color: var(--fill-color);\n",
              "    }\n",
              "    80% {\n",
              "      border-color: transparent;\n",
              "      border-right-color: var(--fill-color);\n",
              "      border-bottom-color: var(--fill-color);\n",
              "    }\n",
              "    90% {\n",
              "      border-color: transparent;\n",
              "      border-bottom-color: var(--fill-color);\n",
              "    }\n",
              "  }\n",
              "</style>\n",
              "\n",
              "      <script>\n",
              "        async function quickchart(key) {\n",
              "          const quickchartButtonEl =\n",
              "            document.querySelector('#' + key + ' button');\n",
              "          quickchartButtonEl.disabled = true;  // To prevent multiple clicks.\n",
              "          quickchartButtonEl.classList.add('colab-df-spinner');\n",
              "          try {\n",
              "            const charts = await google.colab.kernel.invokeFunction(\n",
              "                'suggestCharts', [key], {});\n",
              "          } catch (error) {\n",
              "            console.error('Error during call to suggestCharts:', error);\n",
              "          }\n",
              "          quickchartButtonEl.classList.remove('colab-df-spinner');\n",
              "          quickchartButtonEl.classList.add('colab-df-quickchart-complete');\n",
              "        }\n",
              "        (() => {\n",
              "          let quickchartButtonEl =\n",
              "            document.querySelector('#df-8958ffcc-cd99-48a3-8685-02790cfee975 button');\n",
              "          quickchartButtonEl.style.display =\n",
              "            google.colab.kernel.accessAllowed ? 'block' : 'none';\n",
              "        })();\n",
              "      </script>\n",
              "    </div>\n",
              "\n",
              "    </div>\n",
              "  </div>\n"
            ],
            "application/vnd.google.colaboratory.intrinsic+json": {
              "type": "dataframe",
              "summary": "{\n  \"name\": \"df\",\n  \"rows\": 8,\n  \"fields\": [\n    {\n      \"column\": \"math score\",\n      \"properties\": {\n        \"dtype\": \"number\",\n        \"std\": 335.8676421540409,\n        \"min\": 0.0,\n        \"max\": 1000.0,\n        \"num_unique_values\": 8,\n        \"samples\": [\n          66.089,\n          66.0,\n          1000.0\n        ],\n        \"semantic_type\": \"\",\n        \"description\": \"\"\n      }\n    },\n    {\n      \"column\": \"reading score\",\n      \"properties\": {\n        \"dtype\": \"number\",\n        \"std\": 334.2004716262942,\n        \"min\": 14.60019193725222,\n        \"max\": 1000.0,\n        \"num_unique_values\": 8,\n        \"samples\": [\n          69.169,\n          70.0,\n          1000.0\n        ],\n        \"semantic_type\": \"\",\n        \"description\": \"\"\n      }\n    },\n    {\n      \"column\": \"writing score\",\n      \"properties\": {\n        \"dtype\": \"number\",\n        \"std\": 334.8025670597152,\n        \"min\": 10.0,\n        \"max\": 1000.0,\n        \"num_unique_values\": 8,\n        \"samples\": [\n          68.054,\n          69.0,\n          1000.0\n        ],\n        \"semantic_type\": \"\",\n        \"description\": \"\"\n      }\n    }\n  ]\n}"
            }
          },
          "metadata": {},
          "execution_count": 34
        }
      ]
    },
    {
      "cell_type": "code",
      "source": [
        "#Task 1.2: NumPy Array Operations\n",
        "# Convert score columns to numpy arrays\n",
        "math_scores = df['math score'].values\n",
        "reading_scores = df['reading score'].values\n",
        "writing_scores = df['writing score'].values\n",
        "\n",
        "# Your tasks:\n",
        "# 1. Calculate mean, median, std, min, max for each subject using NumPy\n",
        "# 2. Find total students who scored above 80 in math\n",
        "# 3. Find total students who scored below 50 in any subject\n",
        "# 4. Calculate the overall average score across all three subjects\n",
        "\n",
        "# Expected output example:\n",
        "# Math - Mean: 66.1, Median: 66.0, Std: 15.2\n",
        "# Students with math > 80: 132\n",
        "# Students with any score < 50: 178\n",
        "\n",
        "# Your code here:\n"
      ],
      "metadata": {
        "id": "JQzbRZTAefeu",
        "colab": {
          "base_uri": "https://localhost:8080/"
        },
        "collapsed": true,
        "outputId": "025c008b-a9bc-45db-fcec-bb3ecf7e0b47"
      },
      "execution_count": null,
      "outputs": [
        {
          "output_type": "stream",
          "name": "stdout",
          "text": [
            "[ 72  69  90  47  76  71  88  40  64  38  58  40  65  78  50  69  88  18\n",
            "  46  54  66  65  44  69  74  73  69  67  70  62  69  63  56  40  97  81\n",
            "  74  50  75  57  55  58  53  59  50  65  55  66  57  82  53  77  53  88\n",
            "  71  33  82  52  58   0  79  39  62  69  59  67  45  60  61  39  58  63\n",
            "  41  61  49  44  30  80  61  62  47  49  50  72  42  73  76  71  58  73\n",
            "  65  27  71  43  79  78  65  63  58  65  79  68  85  60  98  58  87  66\n",
            "  52  70  77  62  54  51  99  84  75  78  51  55  79  91  88  63  83  87\n",
            "  72  65  82  51  89  53  87  75  74  58  51  70  59  71  76  59  42  57\n",
            "  88  22  88  73  68 100  62  77  59  54  62  70  66  60  61  66  82  75\n",
            "  49  52  81  96  53  58  68  67  72  94  79  63  43  81  46  71  52  97\n",
            "  62  46  50  65  45  65  80  62  48  77  66  76  62  77  69  61  59  55\n",
            "  45  78  67  65  69  57  59  74  82  81  74  58  80  35  42  60  87  84\n",
            "  83  34  66  61  56  87  55  86  52  45  72  57  68  88  76  46  67  92\n",
            "  83  80  63  64  54  84  73  80  56  59  75  85  89  58  65  68  47  71\n",
            "  60  80  54  62  64  78  70  65  64  79  44  99  76  59  63  69  88  71\n",
            "  69  58  47  65  88  83  85  59  65  73  53  45  73  70  37  81  97  67\n",
            "  88  77  76  86  63  65  78  67  46  71  40  90  81  56  67  80  74  69\n",
            "  99  51  53  49  73  66  67  68  59  71  77  83  63  56  67  75  71  43\n",
            "  41  82  61  28  82  41  71  47  62  90  83  61  76  49  24  35  58  61\n",
            "  69  67  79  72  62  77  75  87  52  66  63  46  59  61  63  42  59  80\n",
            "  58  85  52  27  59  49  69  61  44  73  84  45  74  82  59  46  80  85\n",
            "  71  66  80  87  79  38  38  67  64  57  62  73  73  77  76  57  65  48\n",
            "  50  85  74  60  59  53  49  88  54  63  65  82  52  87  70  84  71  63\n",
            "  51  84  71  74  68  57  82  57  47  59  41  62  86  69  65  68  64  61\n",
            "  61  47  73  50  75  75  70  89  67  78  59  73  79  67  69  86  47  81\n",
            "  64 100  65  65  53  37  79  53 100  72  53  54  71  77  75  84  26  72\n",
            "  77  91  83  63  68  59  90  71  76  80  55  76  73  52  68  59  49  70\n",
            "  61  60  64  79  65  64  83  81  54  68  54  59  66  76  74  94  63  95\n",
            "  40  82  68  55  79  86  76  64  62  54  77  76  74  66  66  67  71  91\n",
            "  69  54  53  68  56  36  29  62  68  47  62  79  73  66  51  51  85  97\n",
            "  75  79  81  82  64  78  92  72  62  79  79  87  40  77  53  32  55  61\n",
            "  53  73  74  63  96  63  48  48  92  61  63  68  71  91  53  50  74  40\n",
            "  61  81  48  53  81  77  63  73  69  65  55  44  54  48  58  71  68  74\n",
            "  92  56  30  53  69  65  54  29  76  60  84  75  85  40  61  58  69  58\n",
            "  94  65  82  60  37  88  95  65  35  62  58 100  61 100  69  61  49  44\n",
            "  67  79  66  75  84  71  67  80  86  76  41  74  72  74  70  65  59  64\n",
            "  50  69  51  68  85  65  73  62  77  69  43  90  74  73  55  65  80  50\n",
            "  63  77  73  81  66  52  69  65  69  50  73  70  81  63  67  60  62  29\n",
            "  62  94  85  77  53  93  49  73  66  77  49  79  75  59  57  66  79  57\n",
            "  87  63  59  62  46  66  89  42  93  80  98  81  60  76  73  96  76  91\n",
            "  62  55  74  50  47  81  65  68  73  53  68  55  87  55  53  67  92  53\n",
            "  81  61  80  37  81  59  55  72  69  69  50  87  71  68  79  77  58  84\n",
            "  55  70  52  69  53  48  78  62  60  74  58  76  68  58  52  75  52  62\n",
            "  66  49  66  35  72  94  46  77  76  52  91  32  72  19  68  52  48  60\n",
            "  66  89  42  57  70  70  69  52  67  76  87  82  73  75  64  41  90  59\n",
            "  51  45  54  87  72  94  45  61  60  77  85  78  49  71  48  62  56  65\n",
            "  69  68  61  74  64  77  58  60  73  75  58  66  39  64  23  74  40  90\n",
            "  91  64  59  80  71  61  87  82  62  97  75  65  52  87  53  81  39  71\n",
            "  97  82  59  61  78  49  59  70  82  90  43  80  81  57  59  64  63  71\n",
            "  64  55  51  62  93  54  69  44  86  85  50  88  59  32  36  63  67  65\n",
            "  85  73  34  93  67  88  57  79  67  70  50  69  52  47  46  68 100  44\n",
            "  57  91  69  35  72  54  74  74  64  65  46  48  67  62  61  70  98  70\n",
            "  67  57  85  77  72  78  81  61  58  54  82  49  49  57  94  75  74  58\n",
            "  62  72  84  92  45  75  56  48 100  65  72  62  66  63  68  75  89  78\n",
            "  53  49  54  64  60  62  55  91   8  81  79  78  74  57  40  81  44  67\n",
            "  86  65  55  62  63  88  62  59  68  77]\n"
          ]
        }
      ]
    },
    {
      "cell_type": "code",
      "source": [
        "# Task 1.2: NumPy Array Operations\n",
        "\n",
        "import numpy as np\n",
        "\n",
        "# Convert score columns to numpy arrays\n",
        "math_scores = df['math score'].values\n",
        "reading_scores = df['reading score'].values\n",
        "writing_scores = df['writing score'].values\n"
      ],
      "metadata": {
        "id": "IBa0qx8k1doZ"
      },
      "execution_count": null,
      "outputs": []
    },
    {
      "cell_type": "code",
      "source": [
        "# 1. Calculate mean, median, std, min, max for each subject\n",
        "print(\"math scores - Mean:\", np.mean(math_scores))\n",
        "print(\"math scores - Median:\", np.median(math_scores))\n",
        "print(\"math scores - Std:\", np.std(math_scores))\n",
        "print(\"math scores - Min/Max:\", np.min(math_scores),\"/\", np.max(math_scores))\n",
        "\n",
        "print(\"reading scores - Mean:\", np.mean(reading_scores))\n",
        "print(\"reading scores - Median:\", np.median(reading_scores))\n",
        "print(\"reading scores - Std:\", np.std(reading_scores))\n",
        "print(\"reading scores - Min/Max:\", np.min(reading_scores),\"/\", np.max(reading_scores))\n",
        "\n",
        "print(\"writing scores - Mean:\", np.mean(writing_scores))\n",
        "print(\"writing scores - Median:\", np.median(writing_scores))\n",
        "print(\"writing scores - Std:\", np.std(writing_scores))\n",
        "print(\"writing scores - Min/Max:\", np.min(writing_scores),\"/\", np.max(writing_scores))"
      ],
      "metadata": {
        "colab": {
          "base_uri": "https://localhost:8080/"
        },
        "id": "S2vDJvfU-0Bd",
        "outputId": "71c779c0-420a-4985-af58-d22e41b33773"
      },
      "execution_count": null,
      "outputs": [
        {
          "output_type": "stream",
          "name": "stdout",
          "text": [
            "math scores - Mean: 66.089\n",
            "math scores - Median: 66.0\n",
            "math scores - Std: 15.155496659628149\n",
            "math scores - Min/Max: 0 / 100\n",
            "reading scores - Mean: 69.169\n",
            "reading scores - Median: 70.0\n",
            "reading scores - Std: 14.592890015346516\n",
            "reading scores - Min/Max: 17 / 100\n",
            "writing scores - Mean: 68.054\n",
            "writing scores - Median: 69.0\n",
            "writing scores - Std: 15.188057281956768\n",
            "writing scores - Min/Max: 10 / 100\n"
          ]
        }
      ]
    },
    {
      "cell_type": "code",
      "source": [
        "# 2. Total students who scored above 80 in math\n",
        "high_math = math_scores > 80\n",
        "print(\"Students with high math scores:\", np.sum(high_math))\n"
      ],
      "metadata": {
        "colab": {
          "base_uri": "https://localhost:8080/"
        },
        "id": "XgtaEAXqAknd",
        "outputId": "754890ab-92e2-4d94-d31c-6ca38db90cd8"
      },
      "execution_count": null,
      "outputs": [
        {
          "output_type": "stream",
          "name": "stdout",
          "text": [
            "Students with high math scores: 176\n"
          ]
        }
      ]
    },
    {
      "cell_type": "code",
      "source": [
        "# 3. Total students who scored below 50 in any subject\n",
        "any_below_50 = np.sum((math_scores < 50) | (reading_scores < 50) | (writing_scores < 50))\n",
        "print(\"Students with any score < 50:\", any_below_50)"
      ],
      "metadata": {
        "colab": {
          "base_uri": "https://localhost:8080/"
        },
        "id": "vOMXBR7-BUzL",
        "outputId": "11426a97-ff04-40da-ef4a-9be2e7671667"
      },
      "execution_count": null,
      "outputs": [
        {
          "output_type": "stream",
          "name": "stdout",
          "text": [
            "Students with any score < 50: 188\n"
          ]
        }
      ]
    },
    {
      "cell_type": "code",
      "source": [
        "# 4. Overall average score across all three subjects\n",
        "overall_avg = np.mean([math_scores, reading_scores, writing_scores])\n",
        "print(\"Overall average score across all subjects:\",overall_avg)"
      ],
      "metadata": {
        "colab": {
          "base_uri": "https://localhost:8080/"
        },
        "id": "bX12iG8KBfTB",
        "outputId": "f6cf64fb-a159-4091-e2c8-ff2c7af5b2a1"
      },
      "execution_count": null,
      "outputs": [
        {
          "output_type": "stream",
          "name": "stdout",
          "text": [
            "Overall average score across all subjects: 67.77066666666667\n"
          ]
        }
      ]
    },
    {
      "cell_type": "code",
      "source": [
        "# Task 2.1: Identify and Handle Missing Data\n",
        "# Check the dataset for any missing values\n",
        "# Your tasks:\n",
        "# 1. Check for null values in each column using .isnull().sum()\n",
        "# 2. Check for any impossible values (scores > 100 or < 0)\n",
        "# 3. Display summary of data quality\n",
        "\n",
        "# Note: This dataset is clean, but let's verify!\n",
        "\n",
        "# Your code here:\n"
      ],
      "metadata": {
        "id": "jxHdNzGeexDI"
      },
      "execution_count": null,
      "outputs": []
    },
    {
      "cell_type": "code",
      "source": [
        "# 1. Check for null values in each column\n",
        "print(\"Missing Values Check:\")\n",
        "print(df.isnull().sum())"
      ],
      "metadata": {
        "colab": {
          "base_uri": "https://localhost:8080/"
        },
        "id": "k6YgjCVcB_NW",
        "outputId": "34e118f6-9a95-4fcc-a159-f3f728e578f6"
      },
      "execution_count": null,
      "outputs": [
        {
          "output_type": "stream",
          "name": "stdout",
          "text": [
            "Missing Values Check:\n",
            "gender                         0\n",
            "race/ethnicity                 0\n",
            "parental level of education    0\n",
            "lunch                          0\n",
            "test preparation course        0\n",
            "math score                     0\n",
            "reading score                  0\n",
            "writing score                  0\n",
            "dtype: int64\n"
          ]
        }
      ]
    },
    {
      "cell_type": "code",
      "source": [
        "# 2. Check for impossible values (scores > 100 or < 0)\n",
        "print(\"\\nCheck for impossible scores:\")\n",
        "for col in ['math score', 'reading score', 'writing score']:\n",
        "    count = ((df[col] < 0) | (df[col] > 100)).sum()\n",
        "    print(col, \"has\", count, \"impossible values\")"
      ],
      "metadata": {
        "colab": {
          "base_uri": "https://localhost:8080/"
        },
        "id": "dQsaJgwyCxFq",
        "outputId": "f150faee-441b-4be6-890d-d374e36c7f83"
      },
      "execution_count": 85,
      "outputs": [
        {
          "output_type": "stream",
          "name": "stdout",
          "text": [
            "\n",
            "Check for impossible scores:\n",
            "math score has 0 impossible values\n",
            "reading score has 0 impossible values\n",
            "writing score has 0 impossible values\n"
          ]
        }
      ]
    },
    {
      "cell_type": "code",
      "source": [
        "total_missing = 0\n",
        "total_impossible = 0\n",
        "print(\"\\nData Quality Summary:\")\n",
        "if total_missing == 0 and total_impossible == 0:\n",
        "    print(\"No missing values and no impossible scores.\")"
      ],
      "metadata": {
        "colab": {
          "base_uri": "https://localhost:8080/"
        },
        "id": "N0bVyJt6DWCL",
        "outputId": "ae67aba6-788e-40e7-9fca-1cd620cee631"
      },
      "execution_count": 86,
      "outputs": [
        {
          "output_type": "stream",
          "name": "stdout",
          "text": [
            "\n",
            "Data Quality Summary:\n",
            "No missing values and no impossible scores.\n"
          ]
        }
      ]
    },
    {
      "cell_type": "code",
      "source": [
        "#Task 2.2: Create and Fix Missing Value\n",
        "# Artificially create missing data for practice\n",
        "import numpy as np\n",
        "\n",
        "# Your tasks:\n",
        "# 1. Make a copy of the dataset: df_practice = df.copy()\n",
        "# 2. Randomly set 50 math scores to np.nan\n",
        "# 3. Randomly set 30 writing scores to np.nan\n",
        "# 4. Fill missing math scores with the MEDIAN math score\n",
        "# 5. Fill missing writing scores with the MEAN writing score\n",
        "# 6. Verify no missing values remain\n",
        "\n",
        "# Steps to follow:\n",
        "# Step 1: Create copy and show original missing values\n",
        "df_practice = df.copy()\n",
        "print(\"Original missing values:\", df_practice.isnull().sum())\n",
        "\n",
        "# Step 2: Create missing data\n",
        "np.random.seed(42)  # For reproducible results\n",
        "missing_math_idx = np.random.choice(df_practice.index, 50, replace=False)\n",
        "missing_writing_idx = np.random.choice(df_practice.index, 30, replace=False)\n",
        "\n",
        "# Continue the task...\n",
        "# Your code here:\n"
      ],
      "metadata": {
        "id": "gjwOKcwLe9vC",
        "colab": {
          "base_uri": "https://localhost:8080/"
        },
        "outputId": "90262042-6f2d-4249-a11f-71870c41db28"
      },
      "execution_count": 87,
      "outputs": [
        {
          "output_type": "stream",
          "name": "stdout",
          "text": [
            "Original missing values: gender                         0\n",
            "race/ethnicity                 0\n",
            "parental level of education    0\n",
            "lunch                          0\n",
            "test preparation course        0\n",
            "math score                     0\n",
            "reading score                  0\n",
            "writing score                  0\n",
            "dtype: int64\n"
          ]
        }
      ]
    },
    {
      "cell_type": "code",
      "source": [
        "# Step 1: Create copy and show original missing values\n",
        "df_practice = df.copy()\n",
        "print(\"Step 1: Original missing values:\")\n",
        "print(df_practice.isnull().sum())\n",
        "\n",
        "# Step 2: Create missing data\n",
        "import numpy as np\n",
        "np.random.seed(42)  # For reproducibility (always same result)\n",
        "\n",
        "# Pick 50 random rows for math score to become NaN\n",
        "missing_math_idx = np.random.choice(df_practice.index, 50, replace=False)\n",
        "df_practice.loc[missing_math_idx, 'math score'] = np.nan\n",
        "\n",
        "# Pick 30 random rows for writing score to become NaN\n",
        "missing_writing_idx = np.random.choice(df_practice.index, 30, replace=False)\n",
        "df_practice.loc[missing_writing_idx, 'writing score'] = np.nan\n",
        "\n",
        "print(\"\\nStep 2: After creating missing values:\")\n",
        "print(df_practice.isnull().sum())\n",
        "\n",
        "# Step 3: Fill missing math scores with the MEDIAN\n",
        "median_math = df_practice['math score'].median()\n",
        "df_practice['math score'].fillna(median_math, inplace=True)\n",
        "\n",
        "# Step 4: Fill missing writing scores with the MEAN\n",
        "mean_writing = df_practice['writing score'].mean()\n",
        "df_practice['writing score'].fillna(mean_writing, inplace=True)\n",
        "\n",
        "print(\"\\nStep 3 & 4: After fixing missing values:\")\n",
        "print(df_practice.isnull().sum())\n",
        "\n",
        "# Step 5: Verify\n",
        "if df_practice.isnull().sum().sum() == 0:\n",
        "    print(\"\\n All missing values fixed! Dataset is clean again.\")\n",
        "else:\n",
        "    print(\"\\n Some missing values remain, please check.\")\n"
      ],
      "metadata": {
        "colab": {
          "base_uri": "https://localhost:8080/"
        },
        "id": "Yeb7iUGlZmKg",
        "outputId": "b659aa84-9d10-46e8-e521-acf57d33495c"
      },
      "execution_count": 92,
      "outputs": [
        {
          "output_type": "stream",
          "name": "stdout",
          "text": [
            "Step 1: Original missing values:\n",
            "gender                         0\n",
            "race/ethnicity                 0\n",
            "parental level of education    0\n",
            "lunch                          0\n",
            "test preparation course        0\n",
            "math score                     0\n",
            "reading score                  0\n",
            "writing score                  0\n",
            "dtype: int64\n",
            "\n",
            "Step 2: After creating missing values:\n",
            "gender                          0\n",
            "race/ethnicity                  0\n",
            "parental level of education     0\n",
            "lunch                           0\n",
            "test preparation course         0\n",
            "math score                     50\n",
            "reading score                   0\n",
            "writing score                  30\n",
            "dtype: int64\n",
            "\n",
            "Step 3 & 4: After fixing missing values:\n",
            "gender                         0\n",
            "race/ethnicity                 0\n",
            "parental level of education    0\n",
            "lunch                          0\n",
            "test preparation course        0\n",
            "math score                     0\n",
            "reading score                  0\n",
            "writing score                  0\n",
            "dtype: int64\n",
            "\n",
            " All missing values fixed! Dataset is clean again.\n"
          ]
        },
        {
          "output_type": "stream",
          "name": "stderr",
          "text": [
            "/tmp/ipython-input-1233329582.py:23: FutureWarning: A value is trying to be set on a copy of a DataFrame or Series through chained assignment using an inplace method.\n",
            "The behavior will change in pandas 3.0. This inplace method will never work because the intermediate object on which we are setting values always behaves as a copy.\n",
            "\n",
            "For example, when doing 'df[col].method(value, inplace=True)', try using 'df.method({col: value}, inplace=True)' or df[col] = df[col].method(value) instead, to perform the operation inplace on the original object.\n",
            "\n",
            "\n",
            "  df_practice['math score'].fillna(median_math, inplace=True)\n",
            "/tmp/ipython-input-1233329582.py:27: FutureWarning: A value is trying to be set on a copy of a DataFrame or Series through chained assignment using an inplace method.\n",
            "The behavior will change in pandas 3.0. This inplace method will never work because the intermediate object on which we are setting values always behaves as a copy.\n",
            "\n",
            "For example, when doing 'df[col].method(value, inplace=True)', try using 'df.method({col: value}, inplace=True)' or df[col] = df[col].method(value) instead, to perform the operation inplace on the original object.\n",
            "\n",
            "\n",
            "  df_practice['writing score'].fillna(mean_writing, inplace=True)\n"
          ]
        }
      ]
    },
    {
      "cell_type": "code",
      "source": [
        "#Task 3.1:Answer Simple Questions About Student Performance\n",
        "# Your tasks:\n",
        "# 1. Display first 5 rows using .head()\n",
        "# 2. Display last 5 rows using .tail()\n",
        "# 3. Show dataset shape using .shape\n",
        "# 4. Show column names using .columns\n",
        "# 5. Show data types using .dtypes\n",
        "# 6. Show basic info using .info()\n",
        "\n",
        "# Your code here:\n"
      ],
      "metadata": {
        "id": "ijhkTUFqgnaG"
      },
      "execution_count": null,
      "outputs": []
    },
    {
      "cell_type": "code",
      "source": [
        "# Task 3.1: Answer Simple Questions About Student Performance\n",
        "\n",
        "# 1. Display first 5 rows\n",
        "print(\"1. First 5 rows:\")\n",
        "print(df.head())\n",
        "\n",
        "# 2. Display last 5 rows\n",
        "print(\"\\n2. Last 5 rows:\")\n",
        "print(df.tail())\n",
        "\n",
        "# 3. Show dataset shape\n",
        "print(\"\\n3. Dataset shape (rows, columns):\")\n",
        "print(df.shape)\n",
        "\n",
        "# 4. Show column names\n",
        "print(\"\\n4. Column names:\")\n",
        "print(df.columns)\n",
        "\n",
        "# 5. Show data types\n",
        "print(\"\\n5. Data types of each column:\")\n",
        "print(df.dtypes)\n",
        "\n",
        "# 6. Show basic info\n",
        "print(\"\\n6. Basic info of dataset:\")\n",
        "print(df.info())\n"
      ],
      "metadata": {
        "colab": {
          "base_uri": "https://localhost:8080/"
        },
        "id": "5LWohumBX2Vx",
        "outputId": "615676e6-d1c4-42f8-fd25-2b2bdf0faf1f"
      },
      "execution_count": 77,
      "outputs": [
        {
          "output_type": "stream",
          "name": "stdout",
          "text": [
            "1. First 5 rows:\n",
            "   gender race/ethnicity parental level of education         lunch  \\\n",
            "0  female        group B           bachelor's degree      standard   \n",
            "1  female        group C                some college      standard   \n",
            "2  female        group B             master's degree      standard   \n",
            "3    male        group A          associate's degree  free/reduced   \n",
            "4    male        group C                some college      standard   \n",
            "\n",
            "  test preparation course  math score  reading score  writing score  \n",
            "0                    none          72             72             74  \n",
            "1               completed          69             90             88  \n",
            "2                    none          90             95             93  \n",
            "3                    none          47             57             44  \n",
            "4                    none          76             78             75  \n",
            "\n",
            "2. Last 5 rows:\n",
            "     gender race/ethnicity parental level of education         lunch  \\\n",
            "995  female        group E             master's degree      standard   \n",
            "996    male        group C                 high school  free/reduced   \n",
            "997  female        group C                 high school  free/reduced   \n",
            "998  female        group D                some college      standard   \n",
            "999  female        group D                some college  free/reduced   \n",
            "\n",
            "    test preparation course  math score  reading score  writing score  \n",
            "995               completed          88             99             95  \n",
            "996                    none          62             55             55  \n",
            "997               completed          59             71             65  \n",
            "998               completed          68             78             77  \n",
            "999                    none          77             86             86  \n",
            "\n",
            "3. Dataset shape (rows, columns):\n",
            "(1000, 8)\n",
            "\n",
            "4. Column names:\n",
            "Index(['gender', 'race/ethnicity', 'parental level of education', 'lunch',\n",
            "       'test preparation course', 'math score', 'reading score',\n",
            "       'writing score'],\n",
            "      dtype='object')\n",
            "\n",
            "5. Data types of each column:\n",
            "gender                         object\n",
            "race/ethnicity                 object\n",
            "parental level of education    object\n",
            "lunch                          object\n",
            "test preparation course        object\n",
            "math score                      int64\n",
            "reading score                   int64\n",
            "writing score                   int64\n",
            "dtype: object\n",
            "\n",
            "6. Basic info of dataset:\n",
            "<class 'pandas.core.frame.DataFrame'>\n",
            "RangeIndex: 1000 entries, 0 to 999\n",
            "Data columns (total 8 columns):\n",
            " #   Column                       Non-Null Count  Dtype \n",
            "---  ------                       --------------  ----- \n",
            " 0   gender                       1000 non-null   object\n",
            " 1   race/ethnicity               1000 non-null   object\n",
            " 2   parental level of education  1000 non-null   object\n",
            " 3   lunch                        1000 non-null   object\n",
            " 4   test preparation course      1000 non-null   object\n",
            " 5   math score                   1000 non-null   int64 \n",
            " 6   reading score                1000 non-null   int64 \n",
            " 7   writing score                1000 non-null   int64 \n",
            "dtypes: int64(3), object(5)\n",
            "memory usage: 62.6+ KB\n",
            "None\n"
          ]
        }
      ]
    },
    {
      "cell_type": "code",
      "source": [
        "#Task 3.2: Basic Groupby Analysis\n",
        "# Comprehensive groupby analysis\n",
        "# Your tasks:\n",
        "\n",
        "# 1. Group by 'gender' and calculate:\n",
        "#    - Average scores in all subjects\n",
        "#    - Count of students\n",
        "\n",
        "# 2. Group by 'test preparation course' and show:\n",
        "#    - Mean scores for each subject\n",
        "#    - Show which subject benefits most from test prep\n",
        "\n",
        "# 3. Group by 'parental level of education' and calculate:\n",
        "#    - Average math score for each education level\n",
        "#    - Rank education levels by math performance\n",
        "\n",
        "# 4. Group by 'lunch' type and show:\n",
        "#    - Average scores for each subject\n",
        "#    - Count of students in each lunch category\n",
        "\n",
        "# Your code here:\n"
      ],
      "metadata": {
        "id": "eW-bxo9SfNFC"
      },
      "execution_count": null,
      "outputs": []
    },
    {
      "cell_type": "code",
      "source": [
        "# 1. Group by 'gender'\n",
        "print(\"1. Group by Gender:\")\n",
        "gender_group = df.groupby('gender').agg(\n",
        "    math_avg = ('math score', 'mean'),\n",
        "    reading_avg = ('reading score', 'mean'),\n",
        "    writing_avg = ('writing score', 'mean'),\n",
        "    student_count = ('gender', 'count')\n",
        ")\n",
        "print(gender_group)"
      ],
      "metadata": {
        "colab": {
          "base_uri": "https://localhost:8080/"
        },
        "id": "gSgOdy9SZsHC",
        "outputId": "997b73e8-6fea-4ecc-bebf-980186adf0f4"
      },
      "execution_count": 95,
      "outputs": [
        {
          "output_type": "stream",
          "name": "stdout",
          "text": [
            "1. Group by Gender:\n",
            "         math_avg  reading_avg  writing_avg  student_count\n",
            "gender                                                    \n",
            "female  63.633205    72.608108    72.467181            518\n",
            "male    68.728216    65.473029    63.311203            482\n"
          ]
        }
      ]
    },
    {
      "cell_type": "code",
      "source": [
        "# 2. Group by 'test preparation course'\n",
        "print(\"\\n#2. Group by Test Preparation Course:\")\n",
        "testprep_group = df.groupby('test preparation course').agg(\n",
        "    math_avg = ('math score', 'mean'),\n",
        "    reading_avg = ('reading score', 'mean'),\n",
        "    writing_avg = ('writing score', 'mean')\n",
        ")\n",
        "print(testprep_group)\n",
        "diff = testprep_group.loc['completed'] - testprep_group.loc['none']\n",
        "print(diff)\n",
        "print(\" The subject with the highest improvement is:\", diff.idxmax())"
      ],
      "metadata": {
        "colab": {
          "base_uri": "https://localhost:8080/"
        },
        "id": "gXRnDcPQaAwJ",
        "outputId": "4cb24cbc-017c-4f40-a280-9c83f474eb5e"
      },
      "execution_count": 99,
      "outputs": [
        {
          "output_type": "stream",
          "name": "stdout",
          "text": [
            "\n",
            "#2. Group by Test Preparation Course:\n",
            "                          math_avg  reading_avg  writing_avg\n",
            "test preparation course                                     \n",
            "completed                69.695531    73.893855    74.418994\n",
            "none                     64.077882    66.534268    64.504673\n",
            "math_avg       5.617649\n",
            "reading_avg    7.359587\n",
            "writing_avg    9.914322\n",
            "dtype: float64\n",
            " The subject with the highest improvement is: writing_avg\n"
          ]
        }
      ]
    },
    {
      "cell_type": "code",
      "source": [
        "# 3. Group by 'parental level of education'\n",
        "print(\"\\n 3. Group by Parental Level of Education (Math Avg):\")\n",
        "parent_group = df.groupby('parental level of education')['math score'].mean().sort_values(ascending=False)\n",
        "print(parent_group)"
      ],
      "metadata": {
        "colab": {
          "base_uri": "https://localhost:8080/"
        },
        "id": "-Hxbgga9am34",
        "outputId": "8fcea35a-8872-4259-c477-10d4cef09d3a"
      },
      "execution_count": 102,
      "outputs": [
        {
          "output_type": "stream",
          "name": "stdout",
          "text": [
            "\n",
            " 3. Group by Parental Level of Education (Math Avg):\n",
            "parental level of education\n",
            "master's degree       69.745763\n",
            "bachelor's degree     69.389831\n",
            "associate's degree    67.882883\n",
            "some college          67.128319\n",
            "some high school      63.497207\n",
            "high school           62.137755\n",
            "Name: math score, dtype: float64\n"
          ]
        }
      ]
    },
    {
      "cell_type": "code",
      "source": [
        "# 4. Group by 'lunch'\n",
        "print(\"\\n4. Group by Lunch Type:\")\n",
        "lunch_group = df.groupby('lunch').agg(\n",
        "    math_avg = ('math score', 'mean'),\n",
        "    reading_avg = ('reading score', 'mean'),\n",
        "    writing_avg = ('writing score', 'mean'),\n",
        "    student_count = ('lunch', 'count')\n",
        ")\n",
        "print(lunch_group)"
      ],
      "metadata": {
        "colab": {
          "base_uri": "https://localhost:8080/"
        },
        "id": "LEdPtiFca5rw",
        "outputId": "5fc22cdc-e318-4e96-84dd-214ccc82a0e9"
      },
      "execution_count": 103,
      "outputs": [
        {
          "output_type": "stream",
          "name": "stdout",
          "text": [
            "\n",
            "4. Group by Lunch Type:\n",
            "               math_avg  reading_avg  writing_avg  student_count\n",
            "lunch                                                           \n",
            "free/reduced  58.921127    64.653521    63.022535            355\n",
            "standard      70.034109    71.654264    70.823256            645\n"
          ]
        }
      ]
    },
    {
      "cell_type": "code",
      "source": [
        "#Task 3.3: Use your data analysis skills to answer these easy questions:\n",
        "\n",
        "# 1. Who performs better in math - males or females?\n",
        "#    - Calculate average math score by gender\n",
        "#    - Show the difference between male and female average\n",
        "\n",
        "# 2. Which subject do students perform best in overall?\n",
        "#    - Calculate the overall average for math, reading, and writing\n",
        "#    - Rank the subjects from highest to lowest average score\n",
        "\n",
        "# 3. What's the impact of parental education?\n",
        "#    - Find the average total score for each parental education level\n",
        "#    - Identify which education level leads to highest student performance\n"
      ],
      "metadata": {
        "id": "EXQhAbVRg_a_"
      },
      "execution_count": null,
      "outputs": []
    },
    {
      "cell_type": "code",
      "source": [
        "# 1. Who performs better in math - males or females?\n",
        "print(\"1. Gender Comparison in Math:\")\n",
        "math_by_gender = df.groupby(\"gender\")[\"math score\"].mean()\n",
        "print(math_by_gender)\n",
        "\n",
        "diff = math_by_gender[\"male\"] - math_by_gender[\"female\"]\n",
        "if diff > 0:\n",
        "    print(\"Males perform better in math on average.\")\n",
        "else:\n",
        "    print(\"Females perform better in math  on average.\")"
      ],
      "metadata": {
        "colab": {
          "base_uri": "https://localhost:8080/"
        },
        "id": "Oq-Xjx8ddUqu",
        "outputId": "9a468be9-1b4d-45d8-887a-076ed1eacf9e"
      },
      "execution_count": 106,
      "outputs": [
        {
          "output_type": "stream",
          "name": "stdout",
          "text": [
            "1. Gender Comparison in Math:\n",
            "gender\n",
            "female    63.633205\n",
            "male      68.728216\n",
            "Name: math score, dtype: float64\n",
            "Males perform better in math on average.\n"
          ]
        }
      ]
    },
    {
      "cell_type": "code",
      "source": [
        "# 2. Which subject do students perform best in overall?\n",
        "print(\"\\n2. Best Subject Overall:\")\n",
        "subject_means = {\n",
        "    \"Math\": df[\"math score\"].mean(),\n",
        "    \"Reading\": df[\"reading score\"].mean(),\n",
        "    \"Writing\": df[\"writing score\"].mean()\n",
        "}\n",
        "subject_means = pd.Series(subject_means).sort_values(ascending=False)\n",
        "print(subject_means)\n",
        "print(f\"Students perform best in {subject_means.index[0]} overall.\")"
      ],
      "metadata": {
        "colab": {
          "base_uri": "https://localhost:8080/"
        },
        "id": "G6yUIEv3dspx",
        "outputId": "6d5dd584-3bec-4ab8-db84-dd62cc6efa33"
      },
      "execution_count": 110,
      "outputs": [
        {
          "output_type": "stream",
          "name": "stdout",
          "text": [
            "\n",
            "2. Best Subject Overall:\n",
            "Reading    69.169\n",
            "Writing    68.054\n",
            "Math       66.089\n",
            "dtype: float64\n",
            "Students perform best in Reading overall.\n"
          ]
        }
      ]
    },
    {
      "cell_type": "code",
      "source": [
        "# 3. What's the impact of parental education?\n",
        "print(\"\\n3. Impact of Parental Education:\")\n",
        "df[\"total score\"] = df[\"math score\"] + df[\"reading score\"] + df[\"writing score\"]\n",
        "parental_per = df.groupby(\"parental level of education\")[\"total score\"].mean().sort_values(ascending=False)\n",
        "print(parental_per)\n",
        "print(f\" Highest student performance is for parents with '{parental_per.index[0]}' education level.\")"
      ],
      "metadata": {
        "colab": {
          "base_uri": "https://localhost:8080/"
        },
        "id": "v0sEQcF6dsod",
        "outputId": "7752f5fc-0399-4e59-9b86-49228a5dbcc8"
      },
      "execution_count": 114,
      "outputs": [
        {
          "output_type": "stream",
          "name": "stdout",
          "text": [
            "\n",
            "3. Impact of Parental Education:\n",
            "parental level of education\n",
            "master's degree       220.796610\n",
            "bachelor's degree     215.771186\n",
            "associate's degree    208.707207\n",
            "some college          205.429204\n",
            "some high school      195.324022\n",
            "high school           189.290816\n",
            "Name: total score, dtype: float64\n",
            " Highest student performance is for parents with 'master's degree' education level.\n"
          ]
        }
      ]
    }
  ]
}