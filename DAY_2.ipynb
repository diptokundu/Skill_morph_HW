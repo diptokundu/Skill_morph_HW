{
  "nbformat": 4,
  "nbformat_minor": 0,
  "metadata": {
    "colab": {
      "provenance": [],
      "toc_visible": true,
      "authorship_tag": "ABX9TyOzaq5eMRO3nbimWqUpLY0S",
      "include_colab_link": true
    },
    "kernelspec": {
      "name": "python3",
      "display_name": "Python 3"
    },
    "language_info": {
      "name": "python"
    }
  },
  "cells": [
    {
      "cell_type": "markdown",
      "metadata": {
        "id": "view-in-github",
        "colab_type": "text"
      },
      "source": [
        "<a href=\"https://colab.research.google.com/github/diptokundu/Skill_morph_HW/blob/main/DAY_2.ipynb\" target=\"_parent\"><img src=\"https://colab.research.google.com/assets/colab-badge.svg\" alt=\"Open In Colab\"/></a>"
      ]
    },
    {
      "cell_type": "code",
      "execution_count": null,
      "metadata": {
        "id": "BsOHwJJ3pHsR"
      },
      "outputs": [],
      "source": []
    },
    {
      "cell_type": "markdown",
      "source": [],
      "metadata": {
        "id": "SfK7ZrVapJCx"
      }
    },
    {
      "cell_type": "markdown",
      "source": [
        "# Day 2"
      ],
      "metadata": {
        "id": "r31Q6eZ2pd5p"
      }
    },
    {
      "cell_type": "markdown",
      "source": [
        "## 2.1. Create variables for your name, age, and favorite color, then print them with descriptive labels.\n"
      ],
      "metadata": {
        "id": "EgwnvoPJpSow"
      }
    },
    {
      "cell_type": "code",
      "source": [
        "name=\"Dipto\"\n",
        "age=25\n",
        "favoriteColor=\"off-white\"\n",
        "print('My Name is',name)\n",
        "print('I am' ,age,'years old')\n",
        "print('My favorite color is',favoriteColor)"
      ],
      "metadata": {
        "colab": {
          "base_uri": "https://localhost:8080/"
        },
        "id": "PvjypM3JpuxM",
        "outputId": "e4370174-f9be-4062-9669-6f00d53e0d43"
      },
      "execution_count": null,
      "outputs": [
        {
          "output_type": "stream",
          "name": "stdout",
          "text": [
            "My Name is Dipto\n",
            "I am 25 years old\n",
            "My favorite color is off-white\n"
          ]
        }
      ]
    },
    {
      "cell_type": "markdown",
      "source": [
        "## 2.2. Create one variable of each type and use the type() function to verify its type.\n"
      ],
      "metadata": {
        "id": "LnpcvObNrRgN"
      }
    },
    {
      "cell_type": "code",
      "source": [
        "age = 10\n",
        "pi_value = 3.141529\n",
        "sms = \"Hello\"\n",
        "is_gender = True\n",
        "classes = [1, 2, 3]\n",
        "coordinate = (4, 5, 6)\n",
        "numbers = {1, 2, 3, 3}\n",
        "\n",
        "print(type(age))\n",
        "print(type(pi_value))\n",
        "print(type(sms))\n",
        "print(type(classes))\n",
        "print(type(coordinate))\n",
        "print(type(is_gender))\n",
        "print(type(g))\n",
        "print(type(h))\n"
      ],
      "metadata": {
        "colab": {
          "base_uri": "https://localhost:8080/"
        },
        "id": "3b35hhBurYzg",
        "outputId": "2336099f-932c-443d-fb24-7af6f096bf7b"
      },
      "execution_count": null,
      "outputs": [
        {
          "output_type": "stream",
          "name": "stdout",
          "text": [
            "<class 'int'>\n",
            "<class 'float'>\n",
            "<class 'str'>\n",
            "<class 'list'>\n",
            "<class 'tuple'>\n",
            "<class 'bool'>\n",
            "<class 'dict'>\n",
            "<class 'set'>\n"
          ]
        }
      ]
    },
    {
      "cell_type": "markdown",
      "source": [
        "## 2.3. Calculate the area and perimeter of a rectangle with length 7 and width 5.\n"
      ],
      "metadata": {
        "id": "vRRYWzNutb3s"
      }
    },
    {
      "cell_type": "code",
      "source": [
        "length,width=7,5\n",
        "area=length*width\n",
        "perimeter=2*(length+width)\n",
        "print('The area and perimeter of the rectangle is',area,'and',perimeter)"
      ],
      "metadata": {
        "colab": {
          "base_uri": "https://localhost:8080/"
        },
        "id": "SGUOrPgathxD",
        "outputId": "cfbf2693-6578-464a-95af-d2c50df2d6cd"
      },
      "execution_count": null,
      "outputs": [
        {
          "output_type": "stream",
          "name": "stdout",
          "text": [
            "The area and perimeter of the rectangle is 35 and 24\n"
          ]
        }
      ]
    },
    {
      "cell_type": "markdown",
      "source": [
        "## 2.4. Create a list of 5 Bangladeshi foods, then access the first and last elements"
      ],
      "metadata": {
        "id": "BXLWQuRmu4ID"
      }
    },
    {
      "cell_type": "code",
      "source": [
        "foods = [\"Biriyani\", \"Panta Ilish\", \"jhalmuri\", \"Khichuri\", \"Rosogolla\"]\n",
        "\n",
        "first_food = foods[0]\n",
        "last_food = foods[4]\n",
        "\n",
        "print(\"First food:\", first_food)\n",
        "print(\"Last food:\", last_food)\n"
      ],
      "metadata": {
        "colab": {
          "base_uri": "https://localhost:8080/"
        },
        "id": "FzOy8atKvAYx",
        "outputId": "7a72bb0f-5e18-4da9-bb41-7eb08951438a"
      },
      "execution_count": null,
      "outputs": [
        {
          "output_type": "stream",
          "name": "stdout",
          "text": [
            "First food: Biriyani\n",
            "Last food: Rosogolla\n"
          ]
        }
      ]
    },
    {
      "cell_type": "markdown",
      "source": [
        "## 2.5. Create a list of 5 numbers, add a new number, remove one, and then sort the list.\n"
      ],
      "metadata": {
        "id": "giJVofhBvdsG"
      }
    },
    {
      "cell_type": "code",
      "source": [
        "numbers=[1,2,3,4,5]\n",
        "numbers.append(6)\n",
        "numbers.remove(1)\n",
        "numbers.sort()\n",
        "print(numbers)\n",
        "numbers.reverse()\n",
        "print(numbers)"
      ],
      "metadata": {
        "colab": {
          "base_uri": "https://localhost:8080/"
        },
        "id": "V80W7PFJvl5c",
        "outputId": "01e3fca8-8b89-4d8e-b23c-90bd54963c1a"
      },
      "execution_count": null,
      "outputs": [
        {
          "output_type": "stream",
          "name": "stdout",
          "text": [
            "[2, 3, 4, 5, 6]\n",
            "[6, 5, 4, 3, 2]\n"
          ]
        }
      ]
    },
    {
      "cell_type": "markdown",
      "source": [
        "## 2.6. Create a dictionary about yourself with at least 4 key-value pairs."
      ],
      "metadata": {
        "id": "XDfrIL2pwu8p"
      }
    },
    {
      "cell_type": "code",
      "source": [
        "myself={\n",
        "    \"Name\":\"Dipto\",\n",
        "    \"age\" : 25,\n",
        "    \"University\":\"university of Rajshahi\",\n",
        "    \"Department\": \"Statistics\"\n",
        "}\n",
        "myself[\"phone\"]=\"007\"\n",
        "\n",
        "print(myself)"
      ],
      "metadata": {
        "colab": {
          "base_uri": "https://localhost:8080/"
        },
        "id": "iXXuekzlw1pL",
        "outputId": "4e86bd3a-8e47-41be-8266-ae97065cdb1f"
      },
      "execution_count": null,
      "outputs": [
        {
          "output_type": "stream",
          "name": "stdout",
          "text": [
            "{'Name': 'Dipto', 'age': 25, 'University': 'university of Rajshahi', 'Department': 'Statistics', 'phone': '007'}\n"
          ]
        }
      ]
    },
    {
      "cell_type": "markdown",
      "source": [
        "## 2.7. Create a tuple with the latitude and longitude of a famous place in Bangladesh.\n"
      ],
      "metadata": {
        "id": "PG6FN849yOo8"
      }
    },
    {
      "cell_type": "code",
      "source": [
        "location=(20,90)\n",
        "print('The latitude and longitude of Rajshahi is:',location)"
      ],
      "metadata": {
        "colab": {
          "base_uri": "https://localhost:8080/"
        },
        "id": "1-wwVLSTyVX4",
        "outputId": "666c7703-409a-4536-fa6f-1e8df8b64400"
      },
      "execution_count": null,
      "outputs": [
        {
          "output_type": "stream",
          "name": "stdout",
          "text": [
            "The latitude and longitude of Rajshahi is: (20, 90)\n"
          ]
        }
      ]
    },
    {
      "cell_type": "markdown",
      "source": [
        "## 2.8. Create two sets of colors and find their union and intersection"
      ],
      "metadata": {
        "id": "uhoPVrB3y7-D"
      }
    },
    {
      "cell_type": "code",
      "source": [
        "my_choice={\"red\",\"green\",\"yellow\"}\n",
        "my_fnd_choice={\"green\",\"black\",\"orange\"}\n",
        "pick=my_choice | my_fnd_choice\n",
        "picks= my_choice & my_fnd_choice\n",
        "print(pick)\n",
        "print(picks)"
      ],
      "metadata": {
        "colab": {
          "base_uri": "https://localhost:8080/"
        },
        "id": "UonfYXEwzChy",
        "outputId": "5f7dd581-88f4-41e2-b97d-d4edbdabe3ce"
      },
      "execution_count": null,
      "outputs": [
        {
          "output_type": "stream",
          "name": "stdout",
          "text": [
            "{'green', 'red', 'orange', 'yellow', 'black'}\n",
            "{'green'}\n"
          ]
        }
      ]
    },
    {
      "cell_type": "markdown",
      "source": [
        "## 2.9. Write a program that checks if a number is positive, negative, or zero.\n"
      ],
      "metadata": {
        "id": "gG_-mIWl0JWg"
      }
    },
    {
      "cell_type": "code",
      "source": [
        "number = int(input(\"Enter a number: \"))\n",
        "if number > 0:\n",
        "    print(\"The number is positive.\")\n",
        "elif number < 0:\n",
        "    print(\"The number is negative.\")\n",
        "else:\n",
        "    print(\"The number is zero.\")\n"
      ],
      "metadata": {
        "colab": {
          "base_uri": "https://localhost:8080/"
        },
        "id": "d0iD8flU0Or4",
        "outputId": "e8059efb-9589-4bdb-d998-3848e6d529d9"
      },
      "execution_count": null,
      "outputs": [
        {
          "output_type": "stream",
          "name": "stdout",
          "text": [
            "Enter a number: 10\n",
            "The number is positive.\n"
          ]
        }
      ]
    },
    {
      "cell_type": "markdown",
      "source": [
        "## 2.10. Write a program that checks eligibility for a discount (student AND under 25, OR senior over 60).\n"
      ],
      "metadata": {
        "id": "kZdN4GYv0fgo"
      }
    },
    {
      "cell_type": "code",
      "source": [
        "age = int(input(\"Enter your age: \"))\n",
        "is_student = input(\"Are you a student?\")\n",
        "\n",
        "if (is_student == \"yes\" and age < 25) or (age > 60):\n",
        "    print(\"You are eligible for a discount.\")\n",
        "else:\n",
        "    print(\"You are not eligible for a discount.\")\n"
      ],
      "metadata": {
        "colab": {
          "base_uri": "https://localhost:8080/"
        },
        "id": "IGiCkDSo0lWw",
        "outputId": "304eb4bd-0dc1-4503-ece9-d873dde0bd3c"
      },
      "execution_count": null,
      "outputs": [
        {
          "output_type": "stream",
          "name": "stdout",
          "text": [
            "Enter your age: 26\n",
            "Are you a student?yes\n",
            "You are not eligible for a discount.\n"
          ]
        }
      ]
    },
    {
      "cell_type": "markdown",
      "source": [
        "## 2.11. Write a program that prints the first 10 even numbers using a for or while loop."
      ],
      "metadata": {
        "id": "geZAVOuT1S0o"
      }
    },
    {
      "cell_type": "code",
      "source": [
        "for i in range(2, 21, 2):  # start=2, end=20, step=2\n",
        "    print(i)\n",
        "\n"
      ],
      "metadata": {
        "colab": {
          "base_uri": "https://localhost:8080/"
        },
        "collapsed": true,
        "id": "Ve7d28BG1ejH",
        "outputId": "ed382378-675a-4e48-a3a8-85c13566bb64"
      },
      "execution_count": null,
      "outputs": [
        {
          "output_type": "stream",
          "name": "stdout",
          "text": [
            "2\n",
            "4\n",
            "6\n",
            "8\n",
            "10\n",
            "12\n",
            "14\n",
            "16\n",
            "18\n",
            "20\n"
          ]
        }
      ]
    },
    {
      "cell_type": "code",
      "source": [
        "i = 2\n",
        "count = 0\n",
        "while count < 10:\n",
        "    print(i)\n",
        "    i += 2\n",
        "    count += 1\n"
      ],
      "metadata": {
        "colab": {
          "base_uri": "https://localhost:8080/"
        },
        "collapsed": true,
        "id": "c_k5Z3hL1sJ_",
        "outputId": "f7dd818a-bf0a-4a3e-ffce-5db8726eee43"
      },
      "execution_count": null,
      "outputs": [
        {
          "output_type": "stream",
          "name": "stdout",
          "text": [
            "2\n",
            "4\n",
            "6\n",
            "8\n",
            "10\n",
            "12\n",
            "14\n",
            "16\n",
            "18\n",
            "20\n"
          ]
        }
      ]
    },
    {
      "cell_type": "markdown",
      "source": [
        "## 2.12. Write a program that prints a simple number pyramid pattern using nested loops."
      ],
      "metadata": {
        "id": "NdcnX6Ip13rr"
      }
    },
    {
      "cell_type": "code",
      "source": [
        "num = 5\n",
        "for i in range(1, num + 1):\n",
        "    for space in range(num - i):\n",
        "        print(\" \", end=\"\")\n",
        "    for r in range(1, i + 1):\n",
        "        print(r, end=\" \")\n",
        "    print()\n",
        "\n",
        ""
      ],
      "metadata": {
        "colab": {
          "base_uri": "https://localhost:8080/"
        },
        "id": "kwZi3ZEb2vTd",
        "outputId": "21085554-fb7b-4a6b-aefb-827c26cdf720"
      },
      "execution_count": 68,
      "outputs": [
        {
          "output_type": "stream",
          "name": "stdout",
          "text": [
            "    1 \n",
            "   1 2 \n",
            "  1 2 3 \n",
            " 1 2 3 4 \n",
            "1 2 3 4 5 \n"
          ]
        }
      ]
    },
    {
      "cell_type": "markdown",
      "source": [
        "## 2.13. Create a function that converts temperature from Celsius to Fahrenheit using the formula: F = (C × 9/5) + 32"
      ],
      "metadata": {
        "id": "AKasu38U6Gp7"
      }
    },
    {
      "cell_type": "code",
      "source": [
        "cel = float(input(\"Enter temperature in Celsius: \"))\n",
        "\n",
        "def cel_to_far(celsius):\n",
        "    fahrenheit = (celsius * 9/5) + 32\n",
        "    return fahrenheit\n",
        "far=cel_to_far(cel)\n",
        "print(f\"{cel} C is equal to {far}F\")\n"
      ],
      "metadata": {
        "colab": {
          "base_uri": "https://localhost:8080/"
        },
        "id": "n_OQ-qQv6aBU",
        "outputId": "904e0c32-ee8e-4e70-fa38-54f42ad0011c"
      },
      "execution_count": 64,
      "outputs": [
        {
          "output_type": "stream",
          "name": "stdout",
          "text": [
            "Enter temperature in Celsius: 10\n",
            "10.0 C is equal to 50.0F\n"
          ]
        }
      ]
    },
    {
      "cell_type": "markdown",
      "source": [
        "## 2.14. Create a function with default parameters that calculates the area of a rectangle"
      ],
      "metadata": {
        "id": "c6_xDvZZ7c4F"
      }
    },
    {
      "cell_type": "code",
      "source": [
        "def area_tringle(length, width):\n",
        "    area=length*width\n",
        "    return area\n",
        "area=area_tringle(5,7)\n",
        "print(f\"The area of the tringle is:\",area)\n"
      ],
      "metadata": {
        "colab": {
          "base_uri": "https://localhost:8080/"
        },
        "id": "S_yhkHsH7jdx",
        "outputId": "a2bfd5c3-e9fd-4838-b8e5-c05c4f08c3e8"
      },
      "execution_count": 66,
      "outputs": [
        {
          "output_type": "stream",
          "name": "stdout",
          "text": [
            "The area of the tringle is: 35\n"
          ]
        }
      ]
    }
  ]
}